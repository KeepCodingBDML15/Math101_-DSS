{
 "cells": [
  {
   "cell_type": "markdown",
   "id": "f2ac4dcd",
   "metadata": {},
   "source": [
    "<img src=\"images/keepcoding.png\" width=200 align=\"left\">"
   ]
  },
  {
   "cell_type": "markdown",
   "id": "9b439de7",
   "metadata": {},
   "source": [
    "# Módulo de Matemáticas 101: práctica\n",
    "\n",
    "Vamos a poner de nuevo en práctica lo que hemos visto en este módulo. La práctica se centra en la regresión lineal (¡tema muy importante!) y podéis preguntarme las dudas que tengáis por Discord. ¡Mucha suerte!\n",
    "\n",
    "<img src=\"./images/luck.gif\" alt=\"Drawing\" style=\"width: 300px;\"/>"
   ]
  },
  {
   "cell_type": "markdown",
   "id": "3d586f09",
   "metadata": {},
   "source": [
    "## 1. Regresión lineal con mínimos cuadrados\n",
    "\n",
    "En este ejercicio vamos a implementar la forma matricial de la regresión lineal con el método de los mínimos cuadrados. Para ello, tendrás que:\n",
    "\n",
    "- Explorar un dataset\n",
    "- Implementar la regresión lineal\n",
    "- Aplicarla a un dataset concreto\n",
    "\n",
    "Como recordatorio, los valores de los pesos $\\widehat{w}$ vienen dados por:\n",
    "\n",
    "<center>$\\widehat{w} = (X^T X)^{-1}X^T y,$</center>\n",
    "\n",
    "Donde $y$ es la variable a predecir y $X$ la matriz de features (NOTA: revisa cómo se define en los apuntes). Sabemos que los pesos van a ser los parámetros de la ecuación lineal que estamos intentando ajustar y tendremos uno por cada variable de entrada que usemos y además un término independiente o bias."
   ]
  },
  {
   "cell_type": "markdown",
   "id": "e574f77d",
   "metadata": {},
   "source": [
    "### 1.1 Carga del dataset y exploración de datos\n",
    "\n",
    "Vamos a usar el dataset de [Auto MPG](https://archive.ics.uci.edu/dataset/9/auto+mpg) que podemos encontrar en el [repositorio de Machine learning de UC Irvine](https://archive.ics.uci.edu/). Lo primero, vamos a familiarizarnos con los datos.\n",
    "\n",
    "En el propio repositorio nos indican cómo descargar el dataset con su librería (podemos consultar el código fuente si queremos)."
   ]
  },
  {
   "cell_type": "code",
   "execution_count": 2,
   "id": "4b5aac08",
   "metadata": {},
   "outputs": [
    {
     "name": "stdout",
     "output_type": "stream",
     "text": [
      "Requirement already satisfied: ucimlrepo in /Users/davidsoteloseguin/Library/Mobile Documents/com~apple~CloudDocs/Personal/Formacion /Prebootcamp/MATEMATICAS 101/venv/lib/python3.13/site-packages (0.0.7)\n",
      "Requirement already satisfied: pandas>=1.0.0 in /Users/davidsoteloseguin/Library/Mobile Documents/com~apple~CloudDocs/Personal/Formacion /Prebootcamp/MATEMATICAS 101/venv/lib/python3.13/site-packages (from ucimlrepo) (2.2.3)\n",
      "Requirement already satisfied: certifi>=2020.12.5 in /Users/davidsoteloseguin/Library/Mobile Documents/com~apple~CloudDocs/Personal/Formacion /Prebootcamp/MATEMATICAS 101/venv/lib/python3.13/site-packages (from ucimlrepo) (2024.12.14)\n",
      "Requirement already satisfied: numpy>=1.26.0 in /Users/davidsoteloseguin/Library/Mobile Documents/com~apple~CloudDocs/Personal/Formacion /Prebootcamp/MATEMATICAS 101/venv/lib/python3.13/site-packages (from pandas>=1.0.0->ucimlrepo) (2.2.1)\n",
      "Requirement already satisfied: python-dateutil>=2.8.2 in /Users/davidsoteloseguin/Library/Mobile Documents/com~apple~CloudDocs/Personal/Formacion /Prebootcamp/MATEMATICAS 101/venv/lib/python3.13/site-packages (from pandas>=1.0.0->ucimlrepo) (2.9.0.post0)\n",
      "Requirement already satisfied: pytz>=2020.1 in /Users/davidsoteloseguin/Library/Mobile Documents/com~apple~CloudDocs/Personal/Formacion /Prebootcamp/MATEMATICAS 101/venv/lib/python3.13/site-packages (from pandas>=1.0.0->ucimlrepo) (2024.2)\n",
      "Requirement already satisfied: tzdata>=2022.7 in /Users/davidsoteloseguin/Library/Mobile Documents/com~apple~CloudDocs/Personal/Formacion /Prebootcamp/MATEMATICAS 101/venv/lib/python3.13/site-packages (from pandas>=1.0.0->ucimlrepo) (2024.2)\n",
      "Requirement already satisfied: six>=1.5 in /Users/davidsoteloseguin/Library/Mobile Documents/com~apple~CloudDocs/Personal/Formacion /Prebootcamp/MATEMATICAS 101/venv/lib/python3.13/site-packages (from python-dateutil>=2.8.2->pandas>=1.0.0->ucimlrepo) (1.17.0)\n",
      "\n",
      "\u001b[1m[\u001b[0m\u001b[34;49mnotice\u001b[0m\u001b[1;39;49m]\u001b[0m\u001b[39;49m A new release of pip is available: \u001b[0m\u001b[31;49m24.2\u001b[0m\u001b[39;49m -> \u001b[0m\u001b[32;49m24.3.1\u001b[0m\n",
      "\u001b[1m[\u001b[0m\u001b[34;49mnotice\u001b[0m\u001b[1;39;49m]\u001b[0m\u001b[39;49m To update, run: \u001b[0m\u001b[32;49mpip install --upgrade pip\u001b[0m\n"
     ]
    }
   ],
   "source": [
    "!pip install ucimlrepo"
   ]
  },
  {
   "cell_type": "code",
   "execution_count": 1,
   "id": "d69d9185",
   "metadata": {},
   "outputs": [
    {
     "name": "stdout",
     "output_type": "stream",
     "text": [
      "{'uci_id': 9, 'name': 'Auto MPG', 'repository_url': 'https://archive.ics.uci.edu/dataset/9/auto+mpg', 'data_url': 'https://archive.ics.uci.edu/static/public/9/data.csv', 'abstract': 'Revised from CMU StatLib library, data concerns city-cycle fuel consumption', 'area': 'Other', 'tasks': ['Regression'], 'characteristics': ['Multivariate'], 'num_instances': 398, 'num_features': 7, 'feature_types': ['Real', 'Categorical', 'Integer'], 'demographics': [], 'target_col': ['mpg'], 'index_col': ['car_name'], 'has_missing_values': 'yes', 'missing_values_symbol': 'NaN', 'year_of_dataset_creation': 1993, 'last_updated': 'Thu Aug 10 2023', 'dataset_doi': '10.24432/C5859H', 'creators': ['R. Quinlan'], 'intro_paper': None, 'additional_info': {'summary': 'This dataset is a slightly modified version of the dataset provided in the StatLib library.  In line with the use by Ross Quinlan (1993) in predicting the attribute \"mpg\", 8 of the original instances were removed because they had unknown values for the \"mpg\" attribute.  The original dataset is available in the file \"auto-mpg.data-original\".\\r\\n\\r\\n\"The data concerns city-cycle fuel consumption in miles per gallon, to be predicted in terms of 3 multivalued discrete and 5 continuous attributes.\" (Quinlan, 1993)', 'purpose': None, 'funded_by': None, 'instances_represent': None, 'recommended_data_splits': None, 'sensitive_data': None, 'preprocessing_description': None, 'variable_info': '    1. mpg:           continuous\\r\\n    2. cylinders:     multi-valued discrete\\r\\n    3. displacement:  continuous\\r\\n    4. horsepower:    continuous\\r\\n    5. weight:        continuous\\r\\n    6. acceleration:  continuous\\r\\n    7. model year:    multi-valued discrete\\r\\n    8. origin:        multi-valued discrete\\r\\n    9. car name:      string (unique for each instance)', 'citation': None}}\n",
      "           name     role         type demographic description units  \\\n",
      "0  displacement  Feature   Continuous        None        None  None   \n",
      "1           mpg   Target   Continuous        None        None  None   \n",
      "2     cylinders  Feature      Integer        None        None  None   \n",
      "3    horsepower  Feature   Continuous        None        None  None   \n",
      "4        weight  Feature   Continuous        None        None  None   \n",
      "5  acceleration  Feature   Continuous        None        None  None   \n",
      "6    model_year  Feature      Integer        None        None  None   \n",
      "7        origin  Feature      Integer        None        None  None   \n",
      "8      car_name       ID  Categorical        None        None  None   \n",
      "\n",
      "  missing_values  \n",
      "0             no  \n",
      "1             no  \n",
      "2             no  \n",
      "3            yes  \n",
      "4             no  \n",
      "5             no  \n",
      "6             no  \n",
      "7             no  \n",
      "8             no  \n"
     ]
    }
   ],
   "source": [
    "from ucimlrepo import fetch_ucirepo \n",
    "  \n",
    "# fetch dataset \n",
    "auto_mpg = fetch_ucirepo(id=9) \n",
    "  \n",
    "# data (as pandas dataframes) \n",
    "X = auto_mpg.data.features \n",
    "y = auto_mpg.data.targets \n",
    "  \n",
    "# metadata \n",
    "print(auto_mpg.metadata) \n",
    "  \n",
    "# variable information \n",
    "print(auto_mpg.variables) \n"
   ]
  },
  {
   "cell_type": "markdown",
   "id": "5f7f79e8",
   "metadata": {},
   "source": [
    "Con la función `head` de Pandas podemos ver las primeras filas del dataset."
   ]
  },
  {
   "cell_type": "code",
   "execution_count": 2,
   "id": "242091db",
   "metadata": {},
   "outputs": [
    {
     "data": {
      "text/html": [
       "<div>\n",
       "<style scoped>\n",
       "    .dataframe tbody tr th:only-of-type {\n",
       "        vertical-align: middle;\n",
       "    }\n",
       "\n",
       "    .dataframe tbody tr th {\n",
       "        vertical-align: top;\n",
       "    }\n",
       "\n",
       "    .dataframe thead th {\n",
       "        text-align: right;\n",
       "    }\n",
       "</style>\n",
       "<table border=\"1\" class=\"dataframe\">\n",
       "  <thead>\n",
       "    <tr style=\"text-align: right;\">\n",
       "      <th></th>\n",
       "      <th>displacement</th>\n",
       "      <th>cylinders</th>\n",
       "      <th>horsepower</th>\n",
       "      <th>weight</th>\n",
       "      <th>acceleration</th>\n",
       "      <th>model_year</th>\n",
       "      <th>origin</th>\n",
       "    </tr>\n",
       "  </thead>\n",
       "  <tbody>\n",
       "    <tr>\n",
       "      <th>0</th>\n",
       "      <td>307.0</td>\n",
       "      <td>8</td>\n",
       "      <td>130.0</td>\n",
       "      <td>3504</td>\n",
       "      <td>12.0</td>\n",
       "      <td>70</td>\n",
       "      <td>1</td>\n",
       "    </tr>\n",
       "    <tr>\n",
       "      <th>1</th>\n",
       "      <td>350.0</td>\n",
       "      <td>8</td>\n",
       "      <td>165.0</td>\n",
       "      <td>3693</td>\n",
       "      <td>11.5</td>\n",
       "      <td>70</td>\n",
       "      <td>1</td>\n",
       "    </tr>\n",
       "    <tr>\n",
       "      <th>2</th>\n",
       "      <td>318.0</td>\n",
       "      <td>8</td>\n",
       "      <td>150.0</td>\n",
       "      <td>3436</td>\n",
       "      <td>11.0</td>\n",
       "      <td>70</td>\n",
       "      <td>1</td>\n",
       "    </tr>\n",
       "    <tr>\n",
       "      <th>3</th>\n",
       "      <td>304.0</td>\n",
       "      <td>8</td>\n",
       "      <td>150.0</td>\n",
       "      <td>3433</td>\n",
       "      <td>12.0</td>\n",
       "      <td>70</td>\n",
       "      <td>1</td>\n",
       "    </tr>\n",
       "    <tr>\n",
       "      <th>4</th>\n",
       "      <td>302.0</td>\n",
       "      <td>8</td>\n",
       "      <td>140.0</td>\n",
       "      <td>3449</td>\n",
       "      <td>10.5</td>\n",
       "      <td>70</td>\n",
       "      <td>1</td>\n",
       "    </tr>\n",
       "  </tbody>\n",
       "</table>\n",
       "</div>"
      ],
      "text/plain": [
       "   displacement  cylinders  horsepower  weight  acceleration  model_year  \\\n",
       "0         307.0          8       130.0    3504          12.0          70   \n",
       "1         350.0          8       165.0    3693          11.5          70   \n",
       "2         318.0          8       150.0    3436          11.0          70   \n",
       "3         304.0          8       150.0    3433          12.0          70   \n",
       "4         302.0          8       140.0    3449          10.5          70   \n",
       "\n",
       "   origin  \n",
       "0       1  \n",
       "1       1  \n",
       "2       1  \n",
       "3       1  \n",
       "4       1  "
      ]
     },
     "execution_count": 2,
     "metadata": {},
     "output_type": "execute_result"
    }
   ],
   "source": [
    "X.head()"
   ]
  },
  {
   "cell_type": "code",
   "execution_count": 3,
   "id": "bc6bfba5",
   "metadata": {},
   "outputs": [
    {
     "data": {
      "text/html": [
       "<div>\n",
       "<style scoped>\n",
       "    .dataframe tbody tr th:only-of-type {\n",
       "        vertical-align: middle;\n",
       "    }\n",
       "\n",
       "    .dataframe tbody tr th {\n",
       "        vertical-align: top;\n",
       "    }\n",
       "\n",
       "    .dataframe thead th {\n",
       "        text-align: right;\n",
       "    }\n",
       "</style>\n",
       "<table border=\"1\" class=\"dataframe\">\n",
       "  <thead>\n",
       "    <tr style=\"text-align: right;\">\n",
       "      <th></th>\n",
       "      <th>mpg</th>\n",
       "    </tr>\n",
       "  </thead>\n",
       "  <tbody>\n",
       "    <tr>\n",
       "      <th>0</th>\n",
       "      <td>18.0</td>\n",
       "    </tr>\n",
       "    <tr>\n",
       "      <th>1</th>\n",
       "      <td>15.0</td>\n",
       "    </tr>\n",
       "    <tr>\n",
       "      <th>2</th>\n",
       "      <td>18.0</td>\n",
       "    </tr>\n",
       "    <tr>\n",
       "      <th>3</th>\n",
       "      <td>16.0</td>\n",
       "    </tr>\n",
       "    <tr>\n",
       "      <th>4</th>\n",
       "      <td>17.0</td>\n",
       "    </tr>\n",
       "  </tbody>\n",
       "</table>\n",
       "</div>"
      ],
      "text/plain": [
       "    mpg\n",
       "0  18.0\n",
       "1  15.0\n",
       "2  18.0\n",
       "3  16.0\n",
       "4  17.0"
      ]
     },
     "execution_count": 3,
     "metadata": {},
     "output_type": "execute_result"
    }
   ],
   "source": [
    "y.head()"
   ]
  },
  {
   "cell_type": "markdown",
   "id": "778156ec",
   "metadata": {},
   "source": [
    "**Exploracion de Dataframes**\n",
    "\n",
    "Analizamos los datos para bucar contenidos o formatos que difitulten su procesado y tratamiento :\n",
    "\n",
    "-Formato del Dataframe con las variables dependientes y el de variable independiente\n",
    "\n",
    "-Revision en busqueda de valores NA"
   ]
  },
  {
   "cell_type": "code",
   "execution_count": 4,
   "id": "6d7f191c",
   "metadata": {},
   "outputs": [
    {
     "data": {
      "text/plain": [
       "(398, 7)"
      ]
     },
     "execution_count": 4,
     "metadata": {},
     "output_type": "execute_result"
    }
   ],
   "source": [
    "X.shape"
   ]
  },
  {
   "cell_type": "code",
   "execution_count": 5,
   "id": "8d08687f",
   "metadata": {},
   "outputs": [
    {
     "data": {
      "text/plain": [
       "(398, 1)"
      ]
     },
     "execution_count": 5,
     "metadata": {},
     "output_type": "execute_result"
    }
   ],
   "source": [
    "y.shape"
   ]
  },
  {
   "cell_type": "markdown",
   "id": "d3200c25-5a69-4971-9e21-604f063e73de",
   "metadata": {},
   "source": [
    "En este punto, puedes hacer cualquier otro análisis exploratorio que creas conveniente."
   ]
  },
  {
   "cell_type": "markdown",
   "id": "fb7bc608",
   "metadata": {},
   "source": [
    "**Localizacion de valores NA**\n",
    "\n",
    "En el analisis exploratorio , localizamos 6  valores NA en la dimension Horsepower."
   ]
  },
  {
   "cell_type": "code",
   "execution_count": 6,
   "id": "195eb391",
   "metadata": {},
   "outputs": [
    {
     "name": "stdout",
     "output_type": "stream",
     "text": [
      "displacement    0\n",
      "cylinders       0\n",
      "horsepower      6\n",
      "weight          0\n",
      "acceleration    0\n",
      "model_year      0\n",
      "origin          0\n",
      "dtype: int64\n"
     ]
    }
   ],
   "source": [
    "# Verificar valores faltantes en el DataFrame\n",
    "print(X.isnull().sum())  # Muestra el número de valores faltantes por columna"
   ]
  },
  {
   "cell_type": "code",
   "execution_count": 7,
   "id": "52d38e9d",
   "metadata": {},
   "outputs": [
    {
     "name": "stdout",
     "output_type": "stream",
     "text": [
      "[130. 165. 150. 140. 198. 220. 215. 225. 190. 170. 160.  95.  97.  85.\n",
      "  88.  46.  87.  90. 113. 200. 210. 193.  nan 100. 105. 175. 153. 180.\n",
      " 110.  72.  86.  70.  76.  65.  69.  60.  80.  54. 208. 155. 112.  92.\n",
      " 145. 137. 158. 167.  94. 107. 230.  49.  75.  91. 122.  67.  83.  78.\n",
      "  52.  61.  93. 148. 129.  96.  71.  98. 115.  53.  81.  79. 120. 152.\n",
      " 102. 108.  68.  58. 149.  89.  63.  48.  66. 139. 103. 125. 133. 138.\n",
      " 135. 142.  77.  62. 132.  84.  64.  74. 116.  82.]\n",
      "6\n"
     ]
    }
   ],
   "source": [
    "# Verificar valores únicos en la columna 'horsepower'\n",
    "print(X['horsepower'].unique())\n",
    "\n",
    "# Contar los valores faltantes en 'horsepower'\n",
    "print(X['horsepower'].isnull().sum())"
   ]
  },
  {
   "cell_type": "markdown",
   "id": "2719aecc",
   "metadata": {},
   "source": [
    "**Resolucion incidencia valores NA**\n",
    "\n",
    "Optamos por sustituir los valores NA por 0 (X pasa a ser X_sin_nan )en vez de eliminar dichas columnas por que provocarian una cambio en la dimensiones del Dataframe, esto favorecera las transformaciones posteriores al continuar manteniendo dimensiones (398,7) al igual que y ."
   ]
  },
  {
   "cell_type": "code",
   "execution_count": 9,
   "id": "91c045e7",
   "metadata": {},
   "outputs": [],
   "source": [
    "# # sustituir valores en filas faltantes\n",
    "import numpy as np\n",
    "X_sin_nan = np.nan_to_num(X, nan=0.0)"
   ]
  },
  {
   "cell_type": "code",
   "execution_count": 11,
   "id": "1831f645",
   "metadata": {},
   "outputs": [
    {
     "name": "stdout",
     "output_type": "stream",
     "text": [
      "0\n"
     ]
    }
   ],
   "source": [
    "# Verificar valores faltantes en el DataFrame\n",
    "print(np.isnan(X_sin_nan).sum()) # Muestra el número de valores faltantes por columna"
   ]
  },
  {
   "cell_type": "code",
   "execution_count": 12,
   "id": "621870bd",
   "metadata": {},
   "outputs": [
    {
     "data": {
      "text/plain": [
       "(398, 7)"
      ]
     },
     "execution_count": 12,
     "metadata": {},
     "output_type": "execute_result"
    }
   ],
   "source": [
    "X_sin_nan.shape"
   ]
  },
  {
   "cell_type": "markdown",
   "id": "f1937b9f",
   "metadata": {},
   "source": [
    "A continuación, crea una función a la que le pases los dataframes de features y de target y el nombre de la variable y haga la gráfica del target (consumo en millas por galón) vs la variable que le ha llegado por parámetro. Puedes ver un ejemplo de gráfica más abajo, pero usa los parámetros que quieras en cuanto a color de los puntos, grids etc."
   ]
  },
  {
   "cell_type": "code",
   "execution_count": 13,
   "id": "c4506146",
   "metadata": {},
   "outputs": [],
   "source": [
    "import matplotlib.pyplot as plt\n",
    "\n",
    "def visualiza(df, y, nombre_columna):\n",
    "    plt.figure(figsize=(8, 6))\n",
    "    plt.scatter(df[nombre_columna], y, color='red', alpha=0.6)\n",
    "    plt.xlabel(nombre_columna)\n",
    "    plt.ylabel(\"MPG (Millas por Galón)\")\n",
    "    plt.title(f\"Relación entre {nombre_columna} y MPG\")\n",
    "    plt.grid(True)\n",
    "    plt.show()"
   ]
  },
  {
   "cell_type": "code",
   "execution_count": 31,
   "id": "5bdb1b9b",
   "metadata": {},
   "outputs": [
    {
     "data": {
      "image/png": "[encoded data removed]",
      "text/plain": [
       "<Figure size 800x600 with 1 Axes>"
      ]
     },
     "metadata": {},
     "output_type": "display_data"
    }
   ],
   "source": [
    "visualiza(X, y, 'horsepower')"
   ]
  },
  {
   "cell_type": "code",
   "execution_count": 14,
   "id": "9a2b0066",
   "metadata": {},
   "outputs": [
    {
     "data": {
      "image/png": "[encoded data removed]",
      "text/plain": [
       "<Figure size 800x600 with 1 Axes>"
      ]
     },
     "metadata": {},
     "output_type": "display_data"
    }
   ],
   "source": [
    "visualiza(X, y, 'weight')"
   ]
  },
  {
   "cell_type": "code",
   "execution_count": 15,
   "id": "88d9b0fe",
   "metadata": {},
   "outputs": [
    {
     "data": {
      "image/png": "[encoded data removed]",
      "text/plain": [
       "<Figure size 800x600 with 1 Axes>"
      ]
     },
     "metadata": {},
     "output_type": "display_data"
    }
   ],
   "source": [
    "visualiza(X, y, 'acceleration')"
   ]
  },
  {
   "cell_type": "markdown",
   "id": "5d52295e-3ae0-41e4-acce-0fad24a4cadb",
   "metadata": {},
   "source": [
    "IMPORTANTE: Aunque lo ideal sería un modelo multivariante, vamos a elegir la variable `weight` y hacer una regresión lineal solo con esta variable."
   ]
  },
  {
   "cell_type": "markdown",
   "id": "58c9aff9",
   "metadata": {},
   "source": [
    "### 1.2 Implementación del modelo\n",
    "\n",
    "En este punto vamos a dar un paso atrás y olvidarnos de los datos de consumo por un momento, porque el algoritmo que vamos a implementar serviría para cualquier conjunto de datos.\n",
    "\n",
    "Lo primero, implementa una función que devuelva los valores de $\\widehat{w}$ dados X e y. Si se da el caso de que el dataset tiene más features que observaciones, queremos transponerlo antes de realizar las operaciones. Lo hacemos porque, como vimos en clase, los resultados no van a ser buenos si el número de observaciones es menor."
   ]
  },
  {
   "cell_type": "markdown",
   "id": "7faa83d3",
   "metadata": {},
   "source": [
    "***Preparacion del dato&transformacion *** \n",
    "\n",
    "Iniciamos la preparacion del dato con el calculo del det del Df que contiene las variables dependientes.Este paso nos dara mas informacion sobre posibles correlaciones entre las variables "
   ]
  },
  {
   "cell_type": "code",
   "execution_count": 16,
   "id": "ba042f84",
   "metadata": {},
   "outputs": [
    {
     "ename": "LinAlgError",
     "evalue": "Last 2 dimensions of the array must be square",
     "output_type": "error",
     "traceback": [
      "\u001b[0;31m---------------------------------------------------------------------------\u001b[0m",
      "\u001b[0;31mLinAlgError\u001b[0m                               Traceback (most recent call last)",
      "Cell \u001b[0;32mIn[16], line 3\u001b[0m\n\u001b[1;32m      1\u001b[0m \u001b[38;5;66;03m#Analizamos el Det = 0 o no es cuadrada la matriz \u001b[39;00m\n\u001b[1;32m      2\u001b[0m \u001b[38;5;28;01mimport\u001b[39;00m \u001b[38;5;21;01mnumpy\u001b[39;00m \u001b[38;5;28;01mas\u001b[39;00m \u001b[38;5;21;01mnp\u001b[39;00m\n\u001b[0;32m----> 3\u001b[0m \u001b[43mnp\u001b[49m\u001b[38;5;241;43m.\u001b[39;49m\u001b[43mlinalg\u001b[49m\u001b[38;5;241;43m.\u001b[39;49m\u001b[43mdet\u001b[49m\u001b[43m(\u001b[49m\u001b[43mX_sin_nan\u001b[49m\u001b[43m)\u001b[49m\n",
      "File \u001b[0;32m~/Library/Mobile Documents/com~apple~CloudDocs/Personal/Formacion /Prebootcamp/MATEMATICAS 101/venv/lib/python3.13/site-packages/numpy/linalg/_linalg.py:2380\u001b[0m, in \u001b[0;36mdet\u001b[0;34m(a)\u001b[0m\n\u001b[1;32m   2378\u001b[0m a \u001b[38;5;241m=\u001b[39m asarray(a)\n\u001b[1;32m   2379\u001b[0m _assert_stacked_2d(a)\n\u001b[0;32m-> 2380\u001b[0m \u001b[43m_assert_stacked_square\u001b[49m\u001b[43m(\u001b[49m\u001b[43ma\u001b[49m\u001b[43m)\u001b[49m\n\u001b[1;32m   2381\u001b[0m t, result_t \u001b[38;5;241m=\u001b[39m _commonType(a)\n\u001b[1;32m   2382\u001b[0m signature \u001b[38;5;241m=\u001b[39m \u001b[38;5;124m'\u001b[39m\u001b[38;5;124mD->D\u001b[39m\u001b[38;5;124m'\u001b[39m \u001b[38;5;28;01mif\u001b[39;00m isComplexType(t) \u001b[38;5;28;01melse\u001b[39;00m \u001b[38;5;124m'\u001b[39m\u001b[38;5;124md->d\u001b[39m\u001b[38;5;124m'\u001b[39m\n",
      "File \u001b[0;32m~/Library/Mobile Documents/com~apple~CloudDocs/Personal/Formacion /Prebootcamp/MATEMATICAS 101/venv/lib/python3.13/site-packages/numpy/linalg/_linalg.py:202\u001b[0m, in \u001b[0;36m_assert_stacked_square\u001b[0;34m(*arrays)\u001b[0m\n\u001b[1;32m    200\u001b[0m m, n \u001b[38;5;241m=\u001b[39m a\u001b[38;5;241m.\u001b[39mshape[\u001b[38;5;241m-\u001b[39m\u001b[38;5;241m2\u001b[39m:]\n\u001b[1;32m    201\u001b[0m \u001b[38;5;28;01mif\u001b[39;00m m \u001b[38;5;241m!=\u001b[39m n:\n\u001b[0;32m--> 202\u001b[0m     \u001b[38;5;28;01mraise\u001b[39;00m LinAlgError(\u001b[38;5;124m'\u001b[39m\u001b[38;5;124mLast 2 dimensions of the array must be square\u001b[39m\u001b[38;5;124m'\u001b[39m)\n",
      "\u001b[0;31mLinAlgError\u001b[0m: Last 2 dimensions of the array must be square"
     ]
    }
   ],
   "source": [
    "#Analizamos el Det = 0 o no es cuadrada la matriz \n",
    "import numpy as np\n",
    "np.linalg.det(X_sin_nan)"
   ]
  },
  {
   "cell_type": "markdown",
   "id": "8ef67b54",
   "metadata": {},
   "source": [
    "El resultado del Det no es concluyente .Puede existir una importante correlacion entre lsa variables dependientes o bien el propio formato del DF al no ser cuadrado puede provocar el resultado obtenido.En este punto se plantean dos vias para continuar con la resolucion de la practica :\n",
    "\n",
    "***Aplicacion de PCA***\n",
    "\n",
    "Comento esta via de resolucion como principal.\n",
    "\n",
    "***Empleo de Pseudoinversa en el caluclo de pesos y W***\n",
    "\n",
    "En paralelo a la via PCA , realizo el desarrollo de la practica aplicando la pseudoinversa.Empleo ''' ''' para dejar el codigo en formato comentario\n"
   ]
  },
  {
   "cell_type": "code",
   "execution_count": 113,
   "id": "168fc1fb",
   "metadata": {},
   "outputs": [
    {
     "name": "stdout",
     "output_type": "stream",
     "text": [
      "Determinante de la matriz : 930645728537385.8\n"
     ]
    }
   ],
   "source": [
    "''' \n",
    "#Probamos ha hacer cuadrada la matriz y ver si Det ≠ 0\n",
    "import numpy as np\n",
    "matriz_cuadrada = np.dot(X_sin_nan.T, X_sin_nan) \n",
    "\n",
    "# Calcular el determinante , el determinante es diferente de 0 !!!\n",
    "determinante = np.linalg.det(matriz_cuadrada)\n",
    "print(f\"Determinante de la matriz : {determinante}\")\n",
    "'''\n"
   ]
  },
  {
   "cell_type": "code",
   "execution_count": 17,
   "id": "b805475d",
   "metadata": {},
   "outputs": [
    {
     "name": "stdout",
     "output_type": "stream",
     "text": [
      "Varianza explicada acumulada: [0.65195938 0.78717049 0.89438745 0.96365136 0.96854565 0.98921101\n",
      " 1.        ]\n",
      "Dimensiones de los datos originales: (398, 7)\n",
      "Dimensiones de los datos reducidos: (398, 2)\n"
     ]
    }
   ],
   "source": [
    "\n",
    "# VIA PRINCIPAL REDUCCION EMPLEANDO PCA\n",
    "#APLICACION DE PCA PARA REDUCCION DE DIMENSIONES\n",
    "\n",
    "import numpy as np\n",
    "# Realizacion una estandarización de los datos puesto que el rango de valores es muy amplio\n",
    "X_mean = np.mean(X_sin_nan, axis=0)\n",
    "X_std = np.std(X_sin_nan, axis=0)\n",
    "X_estandarizado = (X_sin_nan - X_mean) / X_std\n",
    "\n",
    "# Calculamos la Matriz de covarianza\n",
    "cov_matrix = np.cov(X_estandarizado.T)\n",
    "\n",
    "# Cálculamos los autovalores y autovectores\n",
    "eigenvalues, eigenvectors = np.linalg.eig(cov_matrix)\n",
    "\n",
    "# Calculamos la varianza explicada\n",
    "explained_variance = eigenvalues / np.sum(eigenvalues)\n",
    "explained_variance_cumulative = np.cumsum(explained_variance)\n",
    "\n",
    "print(\"Varianza explicada acumulada:\", explained_variance_cumulative)\n",
    "\n",
    "#Conservamos componentes que expliquen al menos el 70% de la varianza busco con ello poder tener las dimensiones reducidas correctas para el calculo de W(shape 398,2)\n",
    "n_components = np.argmax(explained_variance_cumulative >= 0.70) + 1\n",
    "\n",
    "#Seleccionamos los autovectores correspondientes\n",
    "reduced_eigenvectors = eigenvectors[:, :n_components]\n",
    "X_reduced = np.dot(X_estandarizado, reduced_eigenvectors)\n",
    "\n",
    "\n",
    "print(\"Dimensiones de los datos originales:\", X_sin_nan.shape)\n",
    "print(\"Dimensiones de los datos reducidos:\", X_reduced.shape)\n"
   ]
  },
  {
   "cell_type": "code",
   "execution_count": 18,
   "id": "dac79f2d",
   "metadata": {},
   "outputs": [
    {
     "name": "stdout",
     "output_type": "stream",
     "text": [
      "Determinante de la matriz reducida: 684218.9880196855\n"
     ]
    }
   ],
   "source": [
    "# VIA PRINCIPAL REDUCCION EMPLEANDO PCA\n",
    "#Calculamos el determinante de la matriz reducida  ≠ 0\n",
    "X_PCA = np.dot(X_reduced.T, X_reduced) \n",
    "\n",
    "determinante = np.linalg.det(X_PCA)\n",
    "print(f\"Determinante de la matriz reducida: {determinante}\")"
   ]
  },
  {
   "cell_type": "code",
   "execution_count": 114,
   "id": "274573e9",
   "metadata": {},
   "outputs": [],
   "source": [
    "''' \n",
    "#Seguimos la via secundaría de pseudoinversa \n",
    "# 1. Estandarización de los datos\n",
    "X_mean = np.mean(X_sin_nan, axis=0)\n",
    "X_std = np.std(X_sin_nan, axis=0)\n",
    "X_sin_nan = (X_sin_nan - X_mean) / X_std\n",
    "'''"
   ]
  },
  {
   "cell_type": "code",
   "execution_count": 19,
   "id": "96b3cb20",
   "metadata": {},
   "outputs": [
    {
     "data": {
      "text/plain": [
       "(398, 2)"
      ]
     },
     "execution_count": 19,
     "metadata": {},
     "output_type": "execute_result"
    }
   ],
   "source": [
    "#Revisamos el formato de la matriz x\n",
    "X_reduced.shape"
   ]
  },
  {
   "cell_type": "code",
   "execution_count": 20,
   "id": "8db2a941",
   "metadata": {},
   "outputs": [
    {
     "name": "stdout",
     "output_type": "stream",
     "text": [
      "[[ 1.          2.67326255 -0.93226124]\n",
      " [ 1.          3.3878615  -1.0748229 ]\n",
      " [ 1.          3.00958804 -1.1969228 ]\n",
      " ...\n",
      " [ 1.         -0.88990557  0.43273599]\n",
      " [ 1.         -1.59989298  1.75450733]\n",
      " [ 1.         -1.61024395  1.90540358]]\n"
     ]
    }
   ],
   "source": [
    "#Preparamos la matrix matriz_cuadrada añadiendole la columna de 1s\n",
    "columna_1 = np.ones((X_reduced.shape[0], 1))\n",
    "matriz_cuadrada_1 = np.hstack((columna_1, X_reduced))\n",
    "print(matriz_cuadrada_1)\n"
   ]
  },
  {
   "cell_type": "code",
   "execution_count": 21,
   "id": "3f317911",
   "metadata": {},
   "outputs": [
    {
     "data": {
      "text/plain": [
       "(398, 3)"
      ]
     },
     "execution_count": 21,
     "metadata": {},
     "output_type": "execute_result"
    }
   ],
   "source": [
    "#Revisamos el formato de la matriz x con 1s\n",
    "matriz_cuadrada_1.shape"
   ]
  },
  {
   "cell_type": "code",
   "execution_count": 22,
   "id": "468a0f30",
   "metadata": {},
   "outputs": [
    {
     "name": "stdout",
     "output_type": "stream",
     "text": [
      "Requirement already satisfied: scikit-learn in /Users/davidsoteloseguin/Library/Mobile Documents/com~apple~CloudDocs/Personal/Formacion /Prebootcamp/MATEMATICAS 101/venv/lib/python3.13/site-packages (1.6.1)\n",
      "Requirement already satisfied: numpy>=1.19.5 in /Users/davidsoteloseguin/Library/Mobile Documents/com~apple~CloudDocs/Personal/Formacion /Prebootcamp/MATEMATICAS 101/venv/lib/python3.13/site-packages (from scikit-learn) (2.2.1)\n",
      "Requirement already satisfied: scipy>=1.6.0 in /Users/davidsoteloseguin/Library/Mobile Documents/com~apple~CloudDocs/Personal/Formacion /Prebootcamp/MATEMATICAS 101/venv/lib/python3.13/site-packages (from scikit-learn) (1.15.1)\n",
      "Requirement already satisfied: joblib>=1.2.0 in /Users/davidsoteloseguin/Library/Mobile Documents/com~apple~CloudDocs/Personal/Formacion /Prebootcamp/MATEMATICAS 101/venv/lib/python3.13/site-packages (from scikit-learn) (1.4.2)\n",
      "Requirement already satisfied: threadpoolctl>=3.1.0 in /Users/davidsoteloseguin/Library/Mobile Documents/com~apple~CloudDocs/Personal/Formacion /Prebootcamp/MATEMATICAS 101/venv/lib/python3.13/site-packages (from scikit-learn) (3.5.0)\n",
      "\n",
      "\u001b[1m[\u001b[0m\u001b[34;49mnotice\u001b[0m\u001b[1;39;49m]\u001b[0m\u001b[39;49m A new release of pip is available: \u001b[0m\u001b[31;49m24.2\u001b[0m\u001b[39;49m -> \u001b[0m\u001b[32;49m24.3.1\u001b[0m\n",
      "\u001b[1m[\u001b[0m\u001b[34;49mnotice\u001b[0m\u001b[1;39;49m]\u001b[0m\u001b[39;49m To update, run: \u001b[0m\u001b[32;49mpip install --upgrade pip\u001b[0m\n"
     ]
    }
   ],
   "source": [
    "!pip install scikit-learn"
   ]
  },
  {
   "cell_type": "code",
   "execution_count": 23,
   "id": "31af8f8c",
   "metadata": {},
   "outputs": [
    {
     "name": "stdout",
     "output_type": "stream",
     "text": [
      "(3, 398)\n"
     ]
    }
   ],
   "source": [
    "#Realizamos la traspuesta para el calculo de W\n",
    "#Traspuesta\n",
    "X_Unos_T = matriz_cuadrada_1.T\n",
    "print(X_Unos_T.shape)"
   ]
  },
  {
   "cell_type": "code",
   "execution_count": 24,
   "id": "8331de15",
   "metadata": {},
   "outputs": [
    {
     "name": "stdout",
     "output_type": "stream",
     "text": [
      "(3, 398)\n"
     ]
    }
   ],
   "source": [
    "#Inversa\n",
    "#inv = np.linalg.inv(np.dot(X_Unos_T, matriz_cuadrada_1))\n",
    "#Pseudoinversa \n",
    "X_pinv = np.linalg.pinv(matriz_cuadrada_1)\n",
    "print(X_pinv.shape)"
   ]
  },
  {
   "cell_type": "code",
   "execution_count": 25,
   "id": "733b33cd",
   "metadata": {},
   "outputs": [
    {
     "name": "stdout",
     "output_type": "stream",
     "text": [
      "(398, 1)\n"
     ]
    }
   ],
   "source": [
    "#Revisamos el formato de la matriz y \n",
    "print(y.shape)"
   ]
  },
  {
   "cell_type": "code",
   "execution_count": 26,
   "id": "39b70c66",
   "metadata": {},
   "outputs": [
    {
     "name": "stdout",
     "output_type": "stream",
     "text": [
      "         mpg\n",
      "0  23.514573\n",
      "1  -3.099869\n",
      "2   0.270194\n"
     ]
    }
   ],
   "source": [
    "#Calculamos W\n",
    "W = X_pinv @ y\n",
    "print(W)"
   ]
  },
  {
   "cell_type": "code",
   "execution_count": 27,
   "id": "741a496b",
   "metadata": {},
   "outputs": [],
   "source": [
    "import numpy as np\n",
    "\n",
    "def pesos_ols(X, y):\n",
    "    # Implementa la fórmula matricial\n",
    "    \n",
    "    # TODO 1 Comprueba que las dimensiones son adecuadas y corrige si no es así\n",
    "    \n",
    "    # TODO 2 Prepara la matriz X para que tenga la forma adecuada para aplicar la fórmula \n",
    "    \n",
    "\n",
    "    # TODO 3 Calcula los pesos\n",
    "\n",
    "    return w"
   ]
  },
  {
   "cell_type": "code",
   "execution_count": 28,
   "id": "20ebe4da",
   "metadata": {},
   "outputs": [],
   "source": [
    "# Array de prueba!!\n",
    "X_New = np.array([[1710, 1262, 1786, 1717, 2198, 1362, 1694, 2090, 1774, 1077], \n",
    "              [2003, 1976, 2001, 1915, 2000, 1993, 2004, 1973, 1931, 1939]])\n",
    "y_New = np.array([208500, 181500, 223500, 140000, 250000, 143000, 307000, 200000, 129900, 118000])\n"
   ]
  },
  {
   "cell_type": "code",
   "execution_count": 29,
   "id": "1ed8a107",
   "metadata": {},
   "outputs": [
    {
     "name": "stdout",
     "output_type": "stream",
     "text": [
      "[[1.000e+00 1.710e+03 2.003e+03]\n",
      " [1.000e+00 1.262e+03 1.976e+03]\n",
      " [1.000e+00 1.786e+03 2.001e+03]\n",
      " [1.000e+00 1.717e+03 1.915e+03]\n",
      " [1.000e+00 2.198e+03 2.000e+03]\n",
      " [1.000e+00 1.362e+03 1.993e+03]\n",
      " [1.000e+00 1.694e+03 2.004e+03]\n",
      " [1.000e+00 2.090e+03 1.973e+03]\n",
      " [1.000e+00 1.774e+03 1.931e+03]\n",
      " [1.000e+00 1.077e+03 1.939e+03]]\n"
     ]
    }
   ],
   "source": [
    "#Hacemos los calculos necesarios para los nuevos datos\n",
    "import numpy as np\n",
    "\n",
    "# 1. Transponer X para que tenga (10, 2)\n",
    "X_New_T = X_New.T\n",
    "\n",
    "# 2. Agregar columna de unos para el término independiente\n",
    "unos = np.ones((X_New_T.shape[0], 1))  # Columna de unos\n",
    "X_New_OK = np.hstack((unos, X_New_T))  # Agregar columna de unos\n",
    "\n",
    "\n",
    "# Imprimir resultados\n",
    "print(X_New_OK)\n"
   ]
  },
  {
   "cell_type": "code",
   "execution_count": 30,
   "id": "c3c66b75",
   "metadata": {},
   "outputs": [
    {
     "name": "stdout",
     "output_type": "stream",
     "text": [
      "[[-4736.06164555]\n",
      " [-3354.6157696 ]\n",
      " [-4972.19204545]\n",
      " [-4781.53781763]\n",
      " [-6249.6080912 ]\n",
      " [-3660.00932489]\n",
      " [-4686.19355417]\n",
      " [-5922.11752963]\n",
      " [-4953.90721857]\n",
      " [-2791.13727029]]\n"
     ]
    }
   ],
   "source": [
    "# 4. Calcular las predicciones\n",
    "Y_pred_new = np.dot(X_New_OK, W)\n",
    "\n",
    "print(Y_pred_new)"
   ]
  },
  {
   "cell_type": "markdown",
   "id": "e26f4e3d",
   "metadata": {},
   "source": []
  },
  {
   "cell_type": "markdown",
   "id": "ae19e4b9-8ea8-4678-86f9-b05a460fc57c",
   "metadata": {},
   "source": [
    "Hemos implementado el algoritmo de mínimos cuadrados y lo hemos probado en un array de tamaño 2x10. Como pista, el resultado que he obtenido para este array de prueba es el siguiente:\n",
    "\n",
    "array([-2.29223802e+06,  5.92536529e+01,  1.20780450e+03])"
   ]
  },
  {
   "cell_type": "markdown",
   "id": "5cb5c0f5",
   "metadata": {},
   "source": [
    "### 1.3 Prueba del modelo en los datos de consumo de coches\n",
    "\n",
    "Ya podemos usar nuestra función `pesos` en el dataset real que hemos descargado, el de consumo de combustible. Para ver el ajuste, dibuja de nuevo los datos junto con la recta que has obtenido, en la misma gráfica. Tendrás que convertir los dataframes de Pandas en arrays de numpy para poder aplicar las operaciones matriciales.\n",
    "\n",
    "TIP: Revisa las dimensiones de todos los arrays para ver que son correctas."
   ]
  },
  {
   "cell_type": "code",
   "execution_count": 31,
   "id": "99ba4f97",
   "metadata": {},
   "outputs": [],
   "source": [
    "#CONVERTIMOS LOS DT ORIGINALES A NUMPY\n",
    "X_np = X.to_numpy()  # X: DataFrame (398, 7)\n",
    "y_np = y.to_numpy()  # y: DataFrame (398, 1)"
   ]
  },
  {
   "cell_type": "code",
   "execution_count": 32,
   "id": "857e4d7c",
   "metadata": {},
   "outputs": [
    {
     "data": {
      "image/png": "[encoded data removed]",
      "text/plain": [
       "<Figure size 1000x600 with 1 Axes>"
      ]
     },
     "metadata": {},
     "output_type": "display_data"
    }
   ],
   "source": [
    "#Si lo que queremos es solo generar el modelo para predecir esta bien con PCA , si lo que queremos es representar los valores originales de X con PCA no es correcto hemos perdido datos\n",
    "# import matplotlib.pyplot as plt\n",
    "import numpy as np\n",
    "\n",
    "W = np.array(W)\n",
    "\n",
    "# Extraer los pesos del modelo\n",
    "W0 = W[0]  # Intercepto\n",
    "W1 = W[1]  # Peso de la primera característica\n",
    "W2 = W[2]  # Peso de la segunda característica\n",
    "\n",
    "# Seleccionar la característica que usarás para graficar (por ejemplo, X1)\n",
    "X1 = X_sin_nan[:, 4]   # Primera característica (columna 0 de X_reduced)\n",
    "\n",
    "# Calcular las predicciones (y_hat) usando la ecuación de la regresión lineal\n",
    "y_hat = W0 + W1 * X1  # Predicciones en función de X1 (en 2D)\n",
    "\n",
    "# Graficar\n",
    "plt.figure(figsize=(10, 6))\n",
    "plt.scatter(X1, y, color=\"blue\", label=\"Valores reales (y)\", alpha=0.6)  # Puntos reales\n",
    "plt.plot(X1, y_hat, color=\"red\", label=\"Recta de regresión\", linewidth=2)  # Recta ajustada\n",
    "plt.xlabel(\"X1 (Primera característica)\")\n",
    "plt.ylabel(\"y (Valores objetivos)\")\n",
    "plt.title(\"Recta de regresión lineal\")\n",
    "plt.legend()\n",
    "plt.show()"
   ]
  },
  {
   "cell_type": "code",
   "execution_count": 33,
   "id": "827b7a1a",
   "metadata": {},
   "outputs": [
    {
     "name": "stdout",
     "output_type": "stream",
     "text": [
      "Intercepto: [23.51457286]\n",
      "Pendiente de X1: [-3.09986857]\n",
      "Pendiente de X2: [0.27019423]\n"
     ]
    }
   ],
   "source": [
    "# Acceso a los valores de W\n",
    "intercepto = W[0]  # Punto de corte (intercepto)\n",
    "pendiente_X1 = W[1]  # Pendiente de la primera característica (X1)\n",
    "pendiente_X2 = W[2]  # Pendiente de la segunda característica (X2)\n",
    "\n",
    "# Imprimir los valores\n",
    "print(\"Intercepto:\", intercepto)\n",
    "print(\"Pendiente de X1:\", pendiente_X1)\n",
    "print(\"Pendiente de X2:\", pendiente_X2)"
   ]
  },
  {
   "cell_type": "markdown",
   "id": "88fcbf61",
   "metadata": {},
   "source": [
    "Por último, vamos a comprar el resultado con el que nos da `scikit-learn`para ver si nuestra implementación tiene buena pinta. Podemos ver cómo funciona en la [documentación](https://scikit-learn.org/stable/modules/generated/sklearn.linear_model.LinearRegression.html)."
   ]
  },
  {
   "cell_type": "code",
   "execution_count": 36,
   "id": "3d07cb49",
   "metadata": {},
   "outputs": [
    {
     "name": "stdout",
     "output_type": "stream",
     "text": [
      "Punto de corte: [46.31736442]\n",
      "Pendiente: [[-0.00767661]]\n"
     ]
    }
   ],
   "source": [
    "from sklearn.linear_model import LinearRegression\n",
    "\n",
    "# Creamos el objeto\n",
    "lr = LinearRegression()\n",
    "\n",
    "# Le pasamos los datos en el formato correcto\n",
    "X = auto_mpg.data.features \n",
    "y = auto_mpg.data.targets \n",
    "\n",
    "X_lr = X[['weight',]]\n",
    "y_lr = y\n",
    "\n",
    "# Entrenamos con los datos\n",
    "lr.fit(X_lr,y_lr)\n",
    "print(\"Punto de corte:\", lr.intercept_)\n",
    "print(\"Pendiente:\", lr.coef_)"
   ]
  },
  {
   "cell_type": "code",
   "execution_count": 37,
   "id": "2c5b882a",
   "metadata": {},
   "outputs": [
    {
     "name": "stdout",
     "output_type": "stream",
     "text": [
      "R^2: 0.6917929800341573\n",
      "MSE: 18.780939734628397\n"
     ]
    }
   ],
   "source": [
    "from sklearn.metrics import r2_score, mean_squared_error\n",
    "\n",
    "# Predicciones con sklearn\n",
    "y_pred_sklearn = lr.predict(X_lr)\n",
    "\n",
    "# Cálculo de métricas\n",
    "r2 = r2_score(y_lr, y_pred_sklearn)\n",
    "mse = mean_squared_error(y_lr, y_pred_sklearn)\n",
    "\n",
    "print(\"R^2:\", r2)\n",
    "print(\"MSE:\", mse)"
   ]
  },
  {
   "cell_type": "markdown",
   "id": "a2571861",
   "metadata": {},
   "source": [
    "**TODO**: Analiza el resultado obtenido y compáralo con el de sklearn"
   ]
  },
  {
   "cell_type": "markdown",
   "id": "75f8063a",
   "metadata": {},
   "source": [
    "**CONCLUSIONES DEL ANALISIS Y COMPARATIVA CON SKLEARN**\n",
    "\n",
    "El modelo W tras una reduccion de sus dimensiones, tras aplicar el metodo PCA redujimos de 7 a 2 dimensiones por lo que el modelo utiliza una combinacion de las caracterisricas originales. Esta transformacion afecta tanto a las pendientes como al propio intercepto de W.\n",
    "Los resultado de interpecto y la pendiente de cada uno de los metodos nos ofrece estos resultados :\n",
    "**W** Intercepto: [23.51457286]\n",
    "Pendiente de X1: [-3.09986857]\n",
    "Pendiente de X2: [0.27019423]\n",
    "**Sklearn** Punto de corte: [46.31736442]\n",
    "Pendiente: [[-0.00767661]]\n",
    "\n",
    "Concluimos a partir de dichos resultados que aun siendo los coeficientes  el intercepto significativamente diferentes ambos Modelos empleados reflejan la relacion inversa entre las varibles ***Weight*** y ***MPG***\n",
    "\n",
    "A modo de evaluacion del ajuste calculamos y comparamos las metricas de R2 y MSE :\n",
    "\n",
    "**W**R^2 para el modelo W: 0.7207988817575018\n",
    "MSE para el modelo W: 17.01343264710307\n",
    "\n",
    "**Sklearn**R^2: 0.6917929800341573\n",
    "MSE: 18.780939734628397\n",
    "\n",
    "Concluimos que el modelo w tienen un mejor desempeño para explicar la relacion entre las variables MPG y Weight."
   ]
  },
  {
   "cell_type": "markdown",
   "id": "4aa24d2c",
   "metadata": {},
   "source": [
    "### 1.4 Compara el método de mínimos cuadrados y el descenso del gradiente para obtener los coeficientes de una regresión lineal\n",
    "\n"
   ]
  },
  {
   "cell_type": "markdown",
   "id": "d210e034",
   "metadata": {},
   "source": [
    "Existen unas claras diferencias entre ambos metodos que favorecen su uso para unos casos u otros.De manera general podemos expresar que el Metodo de minimos cuadrados ofrece una solucion cerrada, mientras que en el descenso de gradiente podemos optimizar actuando sobre los parametros de eta(tasa de aprendizaje), X0(punto de incio),Max.iter(numero maximo de iteraciones hasta que pare),Diff.to.stop(umbral de cambio) y delta(tamaño del paso en el gradiente).\n",
    "\n",
    "El dinamismo de su solucion hace recomendable el descenso de gradiente para los datasets grandes en los que hay un numero importante de observaciones y dimensionalidad, se puede optimizar los coeficientes y asi reducir el MSE.\n",
    "\n",
    "En el caso del metodo de minimos cuadrados es una buena eleccion en los casos en que los datasets son pequeños/medianos para obtener datos precisos,su calculo es directo y rapido mediante una expresion reducida. "
   ]
  },
  {
   "cell_type": "markdown",
   "id": "3e9b06f2",
   "metadata": {},
   "source": []
  },
  {
   "cell_type": "markdown",
   "id": "77098377",
   "metadata": {},
   "source": [
    "## 2. Optimización con descenso del gradiente [OPCIONAL]\n",
    "\n",
    "Este ejercicio es opcional, no es necesario hacerlo para conseguir el APTO en la práctica, pero podéis hacerlo si queréis practicar más sobre el método del descenso del gradiente, que es muy importante en machine learning.\n",
    "\n",
    "Vamos a resolver el mismo problema usando el descenso del gradiente en lugar de la solución analítica. El descenso del gradiente es un método de optimización iterativo que usa el operador gradiente.\n",
    "\n",
    "Como es iterativo, necesitamos decirle cuándo tiene que parar y darnos la solución. En este caso, le vamos a decir que pare y nos devuelva la solución después de un número de iteraciones que le pasaremos como parámetro. La ecuación iterativa es.\n",
    "\n",
    "$$w^{t+1} = w^t - \\eta \\cdot \\nabla f(w)$$\n",
    "\n",
    "donde f es nuestra función objetivo, y w es un vector. Para la función objetivo, vamos a usar el error RSS, que querremos minimizar.\n",
    "\n",
    "$$ RSS(w) = \\frac{1}{2}\\sum_{n=1}^{N}[y_n-f(x_n)]^2$$\n",
    "\n",
    "y cuyo gradiente es:\n",
    "\n",
    "$$\\nabla RSS(w) = X^T(Xw^t-y)$$\n",
    "\n",
    "TIP: Ten en cuenta que el RSS también lo puedes escribir como $\\frac{1}{2}\\sum_{n=1}^{N}[y_n-\\hat{y_n}]^2$ donde $\\hat{y_n} = X \\hat{w}$ en cada paso."
   ]
  },
  {
   "cell_type": "markdown",
   "id": "446ad8dd",
   "metadata": {},
   "source": [
    "### 2.1 Implementar el descenso del gradiente\n",
    "\n",
    "Completa las siguientes funciones para implementar el descenso del gradiente con la función objetivo de la regresión lineal. La función necesitará:\n",
    "\n",
    "- La entrada X y salida y de la regresión\n",
    "- Un punto inicial desde el que empezar a iterar\n",
    "- El número de iteraciones \n",
    "- El learning rate\n",
    "\n",
    "La función nos devolverá un array con las w resultantes de las iteraciones y otro con el valor de la función en cada paso del algoritmo, a la que también se conoce como *loss function*."
   ]
  },
  {
   "cell_type": "code",
   "execution_count": 38,
   "id": "a73d5785",
   "metadata": {},
   "outputs": [
    {
     "name": "stdout",
     "output_type": "stream",
     "text": [
      "Pesos finales:\n",
      "[[183695.36963666]\n",
      " [ 40682.97678324]]\n",
      "Última pérdida:\n",
      "445188874.98982453\n"
     ]
    }
   ],
   "source": [
    "\n",
    "  import numpy as np\n",
    "\n",
    "def gradient_descent(X, y, w0, n_iter, eta): \n",
    "    # Inicializamos variables\n",
    "    loss_iter = []\n",
    "    w_iter = [w0]\n",
    "    w = w0\n",
    "\n",
    "    # Añadimos la columna de 1s a X para el término de sesgo\n",
    "    X1_DG = np.hstack([np.ones((X.shape[0], 1)), X])  \n",
    "\n",
    "    # Iteraciones\n",
    "    for i in range(n_iter):\n",
    "     \n",
    "        y_pred = np.dot(X1_DG, w)\n",
    "        error = y_pred - y\n",
    "        loss = (1 / (2 * X1_DG.shape[0])) * np.sum(error**2)\n",
    "        loss_iter.append(loss)\n",
    "        \n",
    "        # Calculamos el gradiente\n",
    "        gradient = (1 / X1_DG.shape[0]) * np.dot(X1_DG.T, error)\n",
    "        \n",
    "        # Actualizamos los pesos usando el descenso de gradiente\n",
    "        w = w - eta * gradient\n",
    "        w_iter.append(w.copy()) \n",
    "    \n",
    "    return np.array(w_iter), np.array(loss_iter)\n",
    "\n",
    "\n",
    "\n",
    "eta = 0.01 \n",
    "n_iter = 2000 \n",
    "\n",
    "# Pesos iniciales\n",
    "np.random.seed(123)\n",
    "w0 = np.random.rand(2, 1) \n",
    "\n",
    "\n",
    "y = np.array([208500, 181500, 223500, 140000, 250000]).reshape((5, 1))\n",
    "X = np.array([\n",
    "    [0.37020659],\n",
    "    [-0.48234664],\n",
    "    [0.51483616],\n",
    "    [0.38352774],\n",
    "    [1.29888065]\n",
    "])\n",
    "\n",
    "\n",
    "weights, loss = gradient_descent(X, y, w0, n_iter, eta)\n",
    "\n",
    "\n",
    "print(\"Pesos finales:\")\n",
    "print(weights[-1])\n",
    "\n",
    "\n",
    "print(\"Última pérdida:\")\n",
    "print(loss[-1])"
   ]
  },
  {
   "cell_type": "markdown",
   "id": "6d6e3013",
   "metadata": {},
   "source": [
    "### 2.2 Aplicar al dataset de consumo de combustible\n",
    "\n",
    "Leemos de nuevo los datos y aplicamos la función que acabamos de programar."
   ]
  },
  {
   "cell_type": "code",
   "execution_count": 39,
   "id": "5b684062",
   "metadata": {},
   "outputs": [
    {
     "name": "stdout",
     "output_type": "stream",
     "text": [
      "(398, 1)\n",
      "(398, 1)\n"
     ]
    }
   ],
   "source": [
    "from ucimlrepo import fetch_ucirepo \n",
    "  \n",
    "# fetch dataset \n",
    "auto_mpg = fetch_ucirepo(id=9) \n",
    "  \n",
    "# data (as pandas dataframes) \n",
    "X = auto_mpg.data.features \n",
    "y = auto_mpg.data.targets \n",
    "  \n",
    "# convert to numpy\n",
    "X_np = X['weight'].to_numpy().reshape((X.shape[0], 1))\n",
    "y_np = y.to_numpy()\n",
    "\n",
    "print(X_np.shape)\n",
    "print(y_np.shape)"
   ]
  },
  {
   "cell_type": "code",
   "execution_count": 40,
   "id": "5ad064a9",
   "metadata": {},
   "outputs": [
    {
     "name": "stdout",
     "output_type": "stream",
     "text": [
      "(398, 1)\n",
      "(398, 1)\n"
     ]
    }
   ],
   "source": [
    "print(X_np.shape)  # Verificar la forma de X (debe ser (398, 1))\n",
    "print(y_np.shape)  # Verificar la forma de y (debe ser (398, 1))"
   ]
  },
  {
   "cell_type": "markdown",
   "id": "94d27c55",
   "metadata": {},
   "source": [
    "Para ayudar al algoritmo, vamos a escalar la variable X, restando la media y dividiendo entre la desviación estándar. Después aplicamos la función anterior y dibujamos."
   ]
  },
  {
   "cell_type": "code",
   "execution_count": 41,
   "id": "b5438c2a",
   "metadata": {},
   "outputs": [],
   "source": [
    "# TODO Aplica el modelo y dibuja la recta junto con los datos\n",
    "\n",
    "import numpy as np\n",
    "X = auto_mpg.data.features\n",
    "y = auto_mpg.data.targets\n",
    "\n",
    "# Escalamos la variable x \n",
    "\n",
    "X_np = X['weight'].to_numpy().reshape((X.shape[0], 1))\n",
    "y_np = y.to_numpy()\n",
    "\n",
    "X_gd=(X_np - X_np.mean()) / X_np.std()\n",
    "y_gd = y_np\n",
    "\n",
    "# TODO 1 Punto inicial y learning rate\n",
    "\n",
    "\n",
    "# TODO 2 Aplicamos el algoritmo\n",
    "\n",
    "\n",
    "# Límites de los ejes\n",
    "x_max = np.max(X_gd) + 1\n",
    "x_min = np.min(X_gd) -1\n",
    "\n",
    "\n",
    "# TODO 3 Dibuja la gráfica\n"
   ]
  }
 ],
 "metadata": {
  "kernelspec": {
   "display_name": "venv",
   "language": "python",
   "name": "python3"
  },
  "language_info": {
   "codemirror_mode": {
    "name": "ipython",
    "version": 3
   },
   "file_extension": ".py",
   "mimetype": "text/x-python",
   "name": "python",
   "nbconvert_exporter": "python",
   "pygments_lexer": "ipython3",
   "version": "3.13.0"
  }
 },
 "nbformat": 4,
 "nbformat_minor": 5
}
